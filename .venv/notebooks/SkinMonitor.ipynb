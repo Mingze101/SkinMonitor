{
 "cells": [
  {
   "cell_type": "markdown",
   "source": [
    "# SkinMonitor\n"
   ],
   "metadata": {
    "collapsed": false
   },
   "id": "985aedad60b686ed"
  },
  {
   "cell_type": "markdown",
   "source": [
    "## 1.Dataset\n",
    "The PROVe-AI dataset is a valuable resource for researchers focused on the development and validation of artificial intelligence algorithms for skin cancer diagnosis. It originates from a prospective, observational clinical validation study designed to assess the diagnostic accuracy of an AI algorithm, referred to as ADAE, in predicting melanoma from dermoscopy images of skin lesions.\n",
    "\n",
    "Key aspects of the PROVe-AI dataset include:\n",
    "- **Number of Images**: It contains 603 dermoscopy images.\n",
    "- **Number of Patients**: The dataset covers 435 patients.\n",
    "- **Number of Lesions**: Each of the 603 images corresponds to a unique lesion, all of which underwent biopsy.\n",
    "- **Public Accessibility**: The dataset is publicly available, ensuring broad access for research purposes.\n",
    "- **Licenses**: All images are released under the CC-0 license, allowing for unrestricted use in both academic and commercial projects.\n",
    "- **DOI**: The dataset can be referenced using its Digital Object Identifier (DOI): [https://doi.org/10.34970/576276](https://doi.org/10.34970/576276).\n",
    "- **URI**: [https://api.isic-archive.com/collections/218/?page=1](https://api.isic-archive.com/collections/218/?page=1)\n",
    "\n",
    "This dataset is particularly significant as each lesion included in the study was biopsied, providing a reliable ground truth for training and testing AI models aimed at melanoma detection. The locked status of the dataset indicates controlled access, ensuring data integrity and consistency for all users."
   ],
   "metadata": {
    "collapsed": false
   },
   "id": "375f660cebd908af"
  },
  {
   "cell_type": "code",
   "execution_count": 2,
   "id": "initial_id",
   "metadata": {
    "collapsed": true,
    "ExecuteTime": {
     "end_time": "2024-04-27T21:58:00.293194800Z",
     "start_time": "2024-04-27T21:57:59.949193Z"
    }
   },
   "outputs": [
    {
     "name": "stdout",
     "output_type": "stream",
     "text": [
      "Index(['isic_id', 'attribution', 'copyright_license', 'acquisition_day',\n",
      "       'age_approx', 'anatom_site_general', 'benign_malignant',\n",
      "       'clin_size_long_diam_mm', 'concomitant_biopsy', 'dermoscopic_type',\n",
      "       'diagnosis', 'diagnosis_confirm_type', 'family_hx_mm',\n",
      "       'fitzpatrick_skin_type', 'image_type', 'lesion_id', 'mel_class',\n",
      "       'mel_thick_mm', 'mel_ulcer', 'melanocytic', 'nevus_type', 'patient_id',\n",
      "       'personal_hx_mm', 'sex'],\n",
      "      dtype='object')\n"
     ]
    },
    {
     "data": {
      "text/plain": "        isic_id                             attribution copyright_license  \\\n0  ISIC_0080539  Memorial Sloan Kettering Cancer Center              CC-0   \n1  ISIC_0098024  Memorial Sloan Kettering Cancer Center              CC-0   \n2  ISIC_0131983  Memorial Sloan Kettering Cancer Center              CC-0   \n3  ISIC_0134155  Memorial Sloan Kettering Cancer Center              CC-0   \n4  ISIC_0155910  Memorial Sloan Kettering Cancer Center              CC-0   \n\n   acquisition_day  age_approx anatom_site_general benign_malignant  \\\n0                1          50           head/neck        malignant   \n1                1          65     upper extremity           benign   \n2                1          85     posterior torso           benign   \n3                1          35           head/neck           benign   \n4                1          75           head/neck           benign   \n\n   clin_size_long_diam_mm  concomitant_biopsy   dermoscopic_type  ...  \\\n0                     5.4                True  contact polarized  ...   \n1                     4.9                True  contact polarized  ...   \n2                     4.0                True  contact polarized  ...   \n3                     7.3                True  contact polarized  ...   \n4                     2.7                True  contact polarized  ...   \n\n    image_type   lesion_id         mel_class mel_thick_mm mel_ulcer  \\\n0  dermoscopic  IL_6342582  melanoma in situ          NaN       NaN   \n1  dermoscopic  IL_2556082               NaN          NaN       NaN   \n2  dermoscopic  IL_5424222               NaN          NaN       NaN   \n3  dermoscopic  IL_2907315               NaN          NaN       NaN   \n4  dermoscopic  IL_2102236               NaN          NaN       NaN   \n\n  melanocytic nevus_type  patient_id personal_hx_mm     sex  \n0        True        NaN  IP_5440286           True  female  \n1       False        NaN  IP_0680784          False    male  \n2        True        NaN  IP_7498505          False    male  \n3        True        NaN  IP_1924080          False    male  \n4        True        NaN  IP_3792900           True    male  \n\n[5 rows x 24 columns]",
      "text/html": "<div>\n<style scoped>\n    .dataframe tbody tr th:only-of-type {\n        vertical-align: middle;\n    }\n\n    .dataframe tbody tr th {\n        vertical-align: top;\n    }\n\n    .dataframe thead th {\n        text-align: right;\n    }\n</style>\n<table border=\"1\" class=\"dataframe\">\n  <thead>\n    <tr style=\"text-align: right;\">\n      <th></th>\n      <th>isic_id</th>\n      <th>attribution</th>\n      <th>copyright_license</th>\n      <th>acquisition_day</th>\n      <th>age_approx</th>\n      <th>anatom_site_general</th>\n      <th>benign_malignant</th>\n      <th>clin_size_long_diam_mm</th>\n      <th>concomitant_biopsy</th>\n      <th>dermoscopic_type</th>\n      <th>...</th>\n      <th>image_type</th>\n      <th>lesion_id</th>\n      <th>mel_class</th>\n      <th>mel_thick_mm</th>\n      <th>mel_ulcer</th>\n      <th>melanocytic</th>\n      <th>nevus_type</th>\n      <th>patient_id</th>\n      <th>personal_hx_mm</th>\n      <th>sex</th>\n    </tr>\n  </thead>\n  <tbody>\n    <tr>\n      <th>0</th>\n      <td>ISIC_0080539</td>\n      <td>Memorial Sloan Kettering Cancer Center</td>\n      <td>CC-0</td>\n      <td>1</td>\n      <td>50</td>\n      <td>head/neck</td>\n      <td>malignant</td>\n      <td>5.4</td>\n      <td>True</td>\n      <td>contact polarized</td>\n      <td>...</td>\n      <td>dermoscopic</td>\n      <td>IL_6342582</td>\n      <td>melanoma in situ</td>\n      <td>NaN</td>\n      <td>NaN</td>\n      <td>True</td>\n      <td>NaN</td>\n      <td>IP_5440286</td>\n      <td>True</td>\n      <td>female</td>\n    </tr>\n    <tr>\n      <th>1</th>\n      <td>ISIC_0098024</td>\n      <td>Memorial Sloan Kettering Cancer Center</td>\n      <td>CC-0</td>\n      <td>1</td>\n      <td>65</td>\n      <td>upper extremity</td>\n      <td>benign</td>\n      <td>4.9</td>\n      <td>True</td>\n      <td>contact polarized</td>\n      <td>...</td>\n      <td>dermoscopic</td>\n      <td>IL_2556082</td>\n      <td>NaN</td>\n      <td>NaN</td>\n      <td>NaN</td>\n      <td>False</td>\n      <td>NaN</td>\n      <td>IP_0680784</td>\n      <td>False</td>\n      <td>male</td>\n    </tr>\n    <tr>\n      <th>2</th>\n      <td>ISIC_0131983</td>\n      <td>Memorial Sloan Kettering Cancer Center</td>\n      <td>CC-0</td>\n      <td>1</td>\n      <td>85</td>\n      <td>posterior torso</td>\n      <td>benign</td>\n      <td>4.0</td>\n      <td>True</td>\n      <td>contact polarized</td>\n      <td>...</td>\n      <td>dermoscopic</td>\n      <td>IL_5424222</td>\n      <td>NaN</td>\n      <td>NaN</td>\n      <td>NaN</td>\n      <td>True</td>\n      <td>NaN</td>\n      <td>IP_7498505</td>\n      <td>False</td>\n      <td>male</td>\n    </tr>\n    <tr>\n      <th>3</th>\n      <td>ISIC_0134155</td>\n      <td>Memorial Sloan Kettering Cancer Center</td>\n      <td>CC-0</td>\n      <td>1</td>\n      <td>35</td>\n      <td>head/neck</td>\n      <td>benign</td>\n      <td>7.3</td>\n      <td>True</td>\n      <td>contact polarized</td>\n      <td>...</td>\n      <td>dermoscopic</td>\n      <td>IL_2907315</td>\n      <td>NaN</td>\n      <td>NaN</td>\n      <td>NaN</td>\n      <td>True</td>\n      <td>NaN</td>\n      <td>IP_1924080</td>\n      <td>False</td>\n      <td>male</td>\n    </tr>\n    <tr>\n      <th>4</th>\n      <td>ISIC_0155910</td>\n      <td>Memorial Sloan Kettering Cancer Center</td>\n      <td>CC-0</td>\n      <td>1</td>\n      <td>75</td>\n      <td>head/neck</td>\n      <td>benign</td>\n      <td>2.7</td>\n      <td>True</td>\n      <td>contact polarized</td>\n      <td>...</td>\n      <td>dermoscopic</td>\n      <td>IL_2102236</td>\n      <td>NaN</td>\n      <td>NaN</td>\n      <td>NaN</td>\n      <td>True</td>\n      <td>NaN</td>\n      <td>IP_3792900</td>\n      <td>True</td>\n      <td>male</td>\n    </tr>\n  </tbody>\n</table>\n<p>5 rows × 24 columns</p>\n</div>"
     },
     "execution_count": 2,
     "metadata": {},
     "output_type": "execute_result"
    }
   ],
   "source": [
    "import pandas as pd\n",
    "metadata = pd.read_csv('.venv/dataset/metadata.csv')\n",
    "print(metadata.columns)\n",
    "metadata.head()"
   ]
  },
  {
   "cell_type": "markdown",
   "source": [
    "### 1.1 Data Preprocessing\n",
    "\n",
    "Choosing specific columns from a metadata dataset for building a predictive model, especially in the context of medical image analysis for skin lesion diagnosis, involves selecting features that are most relevant to the condition being studied and that could significantly influence the accuracy of the predictions. Here’s why the selected columns are important:\n",
    "\n",
    "1. **isic_id**: This unique identifier for each image is crucial for tracking and managing data, ensuring that analysis can be accurately correlated with specific images.\n",
    "\n",
    "2. **age_approx**: Age is a significant risk factor for many types of skin conditions, including cancer. Older individuals may have a higher risk of certain types of skin lesions, making age an important variable in predictive modeling.\n",
    "\n",
    "3. **anatom_site_general**: The location of the skin lesion can influence its diagnosis since some types of lesions are more common in specific areas of the body. Including this information can improve the specificity of the model predictions.\n",
    "\n",
    "4. **benign_malignant**: This is a critical classification target for models designed to distinguish between benign and malignant lesions. This attribute directly corresponds to the primary outcome of many diagnostic models in dermatology.\n",
    "\n",
    "5. **diagnosis**: Provides detailed clinical diagnosis data, which is useful for models that are intended to perform detailed classification beyond simple benign/malignant categorization. It helps in training more specialized models that can recognize various types of skin diseases.\n",
    "\n",
    "6. **melanocytic**: Indicates whether the lesion contains melanocytes, which is crucial for diagnosing melanoma, a serious type of skin cancer. This feature helps to tailor the model to focus on characteristics relevant to melanocytic conditions.\n",
    "\n",
    "7. **sex**: Gender may influence the prevalence and type of skin lesions due to biological, genetic, or behavioral differences. Including sex can aid in understanding these differences and tailoring the diagnosis accordingly.\n",
    "\n",
    "8. **fitzpatrick_skin_type**: This skin classification system measures how skin reacts to ultraviolet light, which can impact the likelihood of sun damage and skin cancer. It’s an essential factor for models that need to account for risk variations based on skin type."
   ],
   "metadata": {
    "collapsed": false
   },
   "id": "b44b0b4cc1f78671"
  },
  {
   "cell_type": "code",
   "execution_count": 3,
   "outputs": [
    {
     "name": "stdout",
     "output_type": "stream",
     "text": [
      "        isic_id  age_approx anatom_site_general benign_malignant  \\\n",
      "0  ISIC_0080539          50           head/neck        malignant   \n",
      "1  ISIC_0098024          65     upper extremity           benign   \n",
      "2  ISIC_0131983          85     posterior torso           benign   \n",
      "3  ISIC_0134155          35           head/neck           benign   \n",
      "4  ISIC_0155910          75           head/neck           benign   \n",
      "\n",
      "             diagnosis  melanocytic     sex fitzpatrick_skin_type  \n",
      "0             melanoma         True  female                   III  \n",
      "1  lichenoid keratosis        False    male                   III  \n",
      "2                nevus         True    male                    II  \n",
      "3          lentigo NOS         True    male                   III  \n",
      "4          lentigo NOS         True    male                    II  \n"
     ]
    }
   ],
   "source": [
    "# data split\n",
    "model_data = metadata[['isic_id', 'age_approx', 'anatom_site_general', 'benign_malignant',\n",
    "                 'diagnosis', 'melanocytic', 'sex', 'fitzpatrick_skin_type']]\n",
    "print(model_data.head())"
   ],
   "metadata": {
    "collapsed": false,
    "ExecuteTime": {
     "end_time": "2024-04-27T21:58:06.499541500Z",
     "start_time": "2024-04-27T21:58:06.486542300Z"
    }
   },
   "id": "e5a1041550df69d"
  },
  {
   "cell_type": "code",
   "execution_count": null,
   "outputs": [],
   "source": [],
   "metadata": {
    "collapsed": false
   },
   "id": "5505f337aa773747"
  }
 ],
 "metadata": {
  "kernelspec": {
   "display_name": "Python 3",
   "language": "python",
   "name": "python3"
  },
  "language_info": {
   "codemirror_mode": {
    "name": "ipython",
    "version": 2
   },
   "file_extension": ".py",
   "mimetype": "text/x-python",
   "name": "python",
   "nbconvert_exporter": "python",
   "pygments_lexer": "ipython2",
   "version": "2.7.6"
  }
 },
 "nbformat": 4,
 "nbformat_minor": 5
}
